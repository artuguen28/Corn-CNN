{
 "cells": [
  {
   "cell_type": "markdown",
   "metadata": {},
   "source": [
    "### Preprocessing the input data"
   ]
  },
  {
   "cell_type": "code",
   "execution_count": 3,
   "metadata": {},
   "outputs": [
    {
     "name": "stdout",
     "output_type": "stream",
     "text": [
      "Found 56358 files belonging to 5 classes.\n",
      "Using 50723 files for training.\n",
      "Train OK\n",
      "Found 56358 files belonging to 5 classes.\n",
      "Using 5635 files for validation.\n"
     ]
    }
   ],
   "source": [
    "import numpy as np\n",
    "import tensorflow as tf\n",
    "\n",
    "batch_size = 4\n",
    "img_height = 299\n",
    "img_width = 299\n",
    "\n",
    "data_dir = '../data/train'\n",
    "\n",
    "train_ds = tf.keras.utils.image_dataset_from_directory(\n",
    "  data_dir,\n",
    "  validation_split=0.1,\n",
    "  subset=\"training\",\n",
    "  seed=42,\n",
    "  image_size=(img_height, img_width),\n",
    "  batch_size=batch_size)\n",
    "print(\"Train OK\")\n",
    "\n",
    "val_ds = tf.keras.utils.image_dataset_from_directory(\n",
    "  data_dir,\n",
    "  validation_split=0.1,\n",
    "  subset=\"validation\",\n",
    "  seed=42,\n",
    "  image_size=(img_height, img_width),\n",
    "  batch_size=batch_size)"
   ]
  },
  {
   "cell_type": "markdown",
   "metadata": {},
   "source": [
    "### InceptionV3\n"
   ]
  },
  {
   "cell_type": "code",
   "execution_count": 4,
   "metadata": {},
   "outputs": [],
   "source": [
    "# Downloading the model\n",
    "from keras.applications.inception_v3 import InceptionV3\n",
    "\n",
    "model = InceptionV3(weights='imagenet')"
   ]
  },
  {
   "cell_type": "markdown",
   "metadata": {},
   "source": [
    "### Customizing the model"
   ]
  },
  {
   "cell_type": "code",
   "execution_count": null,
   "metadata": {
    "scrolled": true
   },
   "outputs": [
    {
     "name": "stdout",
     "output_type": "stream",
     "text": [
      "Epoch 1/300\n"
     ]
    }
   ],
   "source": [
    "from keras import Model\n",
    "from keras.layers import Dense\n",
    "import keras\n",
    "\n",
    "\n",
    "EPOCHS = 300\n",
    "PATIENCE = 30\n",
    "\n",
    "corn_output = Dense(5, activation='softmax')\n",
    "corn_output = corn_output(model.layers[-2].output)\n",
    "corn_input = model.input\n",
    "    \n",
    "\n",
    "corn_model = Model(inputs=corn_input, outputs=corn_output)\n",
    "\n",
    "for layer in corn_model.layers[:-1]:\n",
    "    layer.trainable\n",
    "\n",
    "    \n",
    "corn_model.compile(\n",
    "    loss='sparse_categorical_crossentropy',\n",
    "    optimizer='adam',\n",
    "    metrics=['accuracy']\n",
    ")\n",
    "\n",
    "callbacks_list = [\n",
    "    keras.callbacks.EarlyStopping(\n",
    "        monitor='accuracy',\n",
    "        patience=PATIENCE,\n",
    "    ),\n",
    "    keras.callbacks.ModelCheckpoint(\n",
    "        filepath='checkpoint_inceptionv3_300.h5',\n",
    "        monitor='val_loss',\n",
    "        save_best_only=True,\n",
    "    ),\n",
    "    tf.keras.callbacks.CSVLogger(\n",
    "        \"Log\", \n",
    "        separator=\",\", \n",
    "        append=False\n",
    "    )\n",
    "]\n",
    "\n",
    "corn_model.fit(\n",
    "    train_ds,\n",
    "    steps_per_epoch=169,\n",
    "    epochs=EPOCHS,\n",
    "    verbose=2,\n",
    "    validation_data=val_ds,\n",
    "    callbacks=callbacks_list\n",
    ")\n",
    "\n",
    "model.save('inceptionv3_300.h5')"
   ]
  },
  {
   "cell_type": "code",
   "execution_count": null,
   "metadata": {},
   "outputs": [],
   "source": []
  }
 ],
 "metadata": {
  "kernelspec": {
   "display_name": "LSI-Corn-CNN",
   "language": "python",
   "name": "lsi-corn-cnn"
  },
  "language_info": {
   "codemirror_mode": {
    "name": "ipython",
    "version": 3
   },
   "file_extension": ".py",
   "mimetype": "text/x-python",
   "name": "python",
   "nbconvert_exporter": "python",
   "pygments_lexer": "ipython3",
   "version": "3.7.6"
  }
 },
 "nbformat": 4,
 "nbformat_minor": 4
}
